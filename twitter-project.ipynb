{
 "cells": [
  {
   "cell_type": "code",
   "execution_count": 1,
   "id": "a1e2aacd",
   "metadata": {},
   "outputs": [
    {
     "name": "stderr",
     "output_type": "stream",
     "text": [
      "[nltk_data] Downloading package punkt to\n",
      "[nltk_data]     C:\\Users\\VovAz\\AppData\\Roaming\\nltk_data...\n",
      "[nltk_data]   Package punkt is already up-to-date!\n",
      "[nltk_data] Downloading package wordnet to\n",
      "[nltk_data]     C:\\Users\\VovAz\\AppData\\Roaming\\nltk_data...\n",
      "[nltk_data]   Package wordnet is already up-to-date!\n",
      "[nltk_data] Downloading package stopwords to\n",
      "[nltk_data]     C:\\Users\\VovAz\\AppData\\Roaming\\nltk_data...\n",
      "[nltk_data]   Package stopwords is already up-to-date!\n"
     ]
    }
   ],
   "source": [
    "#Importing all the neccessary libraries\n",
    "import pandas as pd\n",
    "import numpy as np\n",
    "\n",
    "#Libraries for visualisation\n",
    "import matplotlib.pyplot as plt\n",
    "import seaborn as sns\n",
    "import plotly.express as px\n",
    "from plotly.subplots import make_subplots\n",
    "import plotly.graph_objects as go\n",
    "import sweetviz as sv\n",
    "\n",
    "#Libraries for formattting and handling text \n",
    "import string\n",
    "import re\n",
    "\n",
    "#Library for nltk\n",
    "import nltk \n",
    "import nltk.corpus\n",
    "from nltk.corpus import stopwords\n",
    "nltk.download('punkt')\n",
    "nltk.download('wordnet')\n",
    "nltk.download('stopwords')\n",
    "from nltk.stem import WordNetLemmatizer\n",
    "\n",
    "from collections import defaultdict\n",
    "from collections import  Counter\n",
    "stop=set(stopwords.words('english'))\n",
    "\n",
    "#Library for Splitting Dataset\n",
    "from sklearn.model_selection import train_test_split\n",
    "\n",
    "#Library for TFIDF\n",
    "from sklearn.feature_extraction.text import TfidfVectorizer\n",
    "\n",
    "#Sklearn ml models\n",
    "from sklearn.linear_model import LinearRegression\n",
    "from sklearn.tree import DecisionTreeClassifier\n",
    "from sklearn.ensemble import RandomForestClassifier\n",
    "from sklearn.metrics import mean_squared_error\n",
    "from sklearn.model_selection import train_test_split\n",
    "from sklearn.model_selection import GridSearchCV\n",
    "from catboost import CatBoostClassifier\n",
    "from lightgbm import LGBMClassifier\n",
    "import time\n",
    "#Library for evaluation\n",
    "from sklearn.metrics import accuracy_score, precision_score, recall_score, f1_score,classification_report, roc_auc_score\n",
    "\n",
    "import warnings\n",
    "warnings.filterwarnings(\"ignore\")"
   ]
  },
  {
   "cell_type": "code",
   "execution_count": 2,
   "id": "a45f49c3",
   "metadata": {},
   "outputs": [],
   "source": [
    "df_train=pd.read_csv('C:/Users/VovAz/OneDrive/Desktop/Проект/Disaster/train.csv')\n",
    "df_test=pd.read_csv('C:/Users/VovAz/OneDrive/Desktop/Проект/Disaster/test.csv')"
   ]
  },
  {
   "cell_type": "code",
   "execution_count": 3,
   "id": "27f7c851",
   "metadata": {},
   "outputs": [
    {
     "name": "stdout",
     "output_type": "stream",
     "text": [
      "<class 'pandas.core.frame.DataFrame'>\n",
      "RangeIndex: 7613 entries, 0 to 7612\n",
      "Data columns (total 5 columns):\n",
      " #   Column    Non-Null Count  Dtype \n",
      "---  ------    --------------  ----- \n",
      " 0   id        7613 non-null   int64 \n",
      " 1   keyword   7552 non-null   object\n",
      " 2   location  5080 non-null   object\n",
      " 3   text      7613 non-null   object\n",
      " 4   target    7613 non-null   int64 \n",
      "dtypes: int64(2), object(3)\n",
      "memory usage: 297.5+ KB\n"
     ]
    }
   ],
   "source": [
    "df_train.info()"
   ]
  },
  {
   "cell_type": "code",
   "execution_count": 4,
   "id": "313611e9",
   "metadata": {},
   "outputs": [
    {
     "name": "stdout",
     "output_type": "stream",
     "text": [
      "Sample text from the train dataset:\n"
     ]
    },
    {
     "data": {
      "text/plain": [
       "0    Our Deeds are the Reason of this #earthquake M...\n",
       "1               Forest fire near La Ronge Sask. Canada\n",
       "2    All residents asked to 'shelter in place' are ...\n",
       "3    13,000 people receive #wildfires evacuation or...\n",
       "4    Just got sent this photo from Ruby #Alaska as ...\n",
       "Name: text, dtype: object"
      ]
     },
     "execution_count": 4,
     "metadata": {},
     "output_type": "execute_result"
    }
   ],
   "source": [
    "print('Sample text from the train dataset:')\n",
    "df_train['text'].head()"
   ]
  },
  {
   "cell_type": "code",
   "execution_count": 5,
   "id": "a9f7ca30",
   "metadata": {},
   "outputs": [
    {
     "data": {
      "application/vnd.jupyter.widget-view+json": {
       "model_id": "1f849e88f20c4d499e3968468ff95a43",
       "version_major": 2,
       "version_minor": 0
      },
      "text/plain": [
       "                                             |          | [  0%]   00:00 -> (? left)"
      ]
     },
     "metadata": {},
     "output_type": "display_data"
    }
   ],
   "source": [
    "report_con = sv.analyze([df_train, 'keyword'])"
   ]
  },
  {
   "cell_type": "code",
   "execution_count": 6,
   "id": "aee7d764",
   "metadata": {},
   "outputs": [
    {
     "name": "stdout",
     "output_type": "stream",
     "text": [
      "Report SWEETVIZ_REPORT.html was generated! NOTEBOOK/COLAB USERS: the web browser MAY not pop up, regardless, the report IS saved in your notebook/colab files.\n"
     ]
    }
   ],
   "source": [
    "report_con.show_html()"
   ]
  },
  {
   "cell_type": "code",
   "execution_count": 7,
   "id": "84263c28",
   "metadata": {},
   "outputs": [
    {
     "data": {
      "application/vnd.jupyter.widget-view+json": {
       "model_id": "fe3e44793cd647909e11bdcc07113ce4",
       "version_major": 2,
       "version_minor": 0
      },
      "text/plain": [
       "                                             |          | [  0%]   00:00 -> (? left)"
      ]
     },
     "metadata": {},
     "output_type": "display_data"
    }
   ],
   "source": [
    "report_con = sv.analyze([df_train, 'target'])"
   ]
  },
  {
   "cell_type": "code",
   "execution_count": 8,
   "id": "b7742847",
   "metadata": {},
   "outputs": [
    {
     "name": "stdout",
     "output_type": "stream",
     "text": [
      "Report SWEETVIZ_REPORT.html was generated! NOTEBOOK/COLAB USERS: the web browser MAY not pop up, regardless, the report IS saved in your notebook/colab files.\n"
     ]
    }
   ],
   "source": [
    "report_con.show_html()"
   ]
  },
  {
   "cell_type": "markdown",
   "id": "d2369c72",
   "metadata": {},
   "source": [
    "EDA shows that there is less than 1% of missing data, 3% of data are unique values."
   ]
  },
  {
   "cell_type": "code",
   "execution_count": 9,
   "id": "c41e1802",
   "metadata": {},
   "outputs": [
    {
     "name": "stdout",
     "output_type": "stream",
     "text": [
      "Top 10 of frequently used keywords at disaster tweets: \n"
     ]
    },
    {
     "data": {
      "text/plain": [
       "derailment           39\n",
       "wreckage             39\n",
       "outbreak             39\n",
       "debris               37\n",
       "oil%20spill          37\n",
       "typhoon              37\n",
       "evacuated            32\n",
       "suicide%20bombing    32\n",
       "rescuers             32\n",
       "suicide%20bomb       32\n",
       "Name: keyword, dtype: int64"
      ]
     },
     "execution_count": 9,
     "metadata": {},
     "output_type": "execute_result"
    }
   ],
   "source": [
    "print('Top 10 of frequently used keywords at disaster tweets: ')\n",
    "df_train[df_train['target']== 1]['keyword'].value_counts().head(10)"
   ]
  },
  {
   "cell_type": "code",
   "execution_count": 10,
   "id": "dc3ccb4c",
   "metadata": {},
   "outputs": [
    {
     "name": "stdout",
     "output_type": "stream",
     "text": [
      "Top 10 of frequently used keywords at non-disaster tweets: \n"
     ]
    },
    {
     "data": {
      "text/plain": [
       "body%20bags    40\n",
       "harm           37\n",
       "armageddon     37\n",
       "wrecked        36\n",
       "ruin           36\n",
       "deluge         36\n",
       "explode        35\n",
       "twister        35\n",
       "fear           35\n",
       "siren          35\n",
       "Name: keyword, dtype: int64"
      ]
     },
     "execution_count": 10,
     "metadata": {},
     "output_type": "execute_result"
    }
   ],
   "source": [
    "print('Top 10 of frequently used keywords at non-disaster tweets: ')\n",
    "df_train[df_train['target']== 0]['keyword'].value_counts().head(10)"
   ]
  },
  {
   "cell_type": "code",
   "execution_count": 11,
   "id": "33429c1b",
   "metadata": {},
   "outputs": [
    {
     "data": {
      "image/png": "[encoded data removed]",
      "text/plain": [
       "<Figure size 640x480 with 1 Axes>"
      ]
     },
     "metadata": {},
     "output_type": "display_data"
    }
   ],
   "source": [
    "height = df_train[df_train['target']== 0]['keyword'].value_counts(ascending = False)[:30].values\n",
    "bars = df_train[df_train['target']== 0]['keyword'].value_counts(ascending = False)[:30].index\n",
    "y_pos = range(len(bars), 0 ,-1) #create descending graph \n",
    " \n",
    "# Create horizontal bars\n",
    "plt.barh(y_pos, height)\n",
    " \n",
    "# Create names on the x-axis\n",
    "plt.yticks(y_pos, bars)\n",
    " \n",
    "# Show graphic\n",
    "plt.show()"
   ]
  },
  {
   "cell_type": "code",
   "execution_count": 12,
   "id": "72868696",
   "metadata": {},
   "outputs": [
    {
     "data": {
      "image/png": "[encoded data removed]",
      "text/plain": [
       "<Figure size 640x480 with 1 Axes>"
      ]
     },
     "metadata": {},
     "output_type": "display_data"
    }
   ],
   "source": [
    "height = df_train[df_train['target']== 1]['keyword'].value_counts(ascending = False)[:30].values\n",
    "bars = df_train[df_train['target']== 1]['keyword'].value_counts(ascending = False)[:30].index\n",
    "y_pos = range(len(bars), 0 ,-1)\n",
    " \n",
    "# Create horizontal bars\n",
    "plt.barh(y_pos, height, color= 'red')\n",
    " \n",
    "# Create names on the x-axis\n",
    "plt.yticks(y_pos, bars)\n",
    "\n",
    "# Show graphic\n",
    "plt.show()"
   ]
  },
  {
   "cell_type": "code",
   "execution_count": 13,
   "id": "f378c78d",
   "metadata": {},
   "outputs": [
    {
     "data": {
      "text/plain": [
       "array([False, False, False, False, False, False, False, False, False,\n",
       "       False, False, False, False, False, False, False, False, False,\n",
       "       False, False, False, False, False, False, False, False, False,\n",
       "       False, False, False])"
      ]
     },
     "execution_count": 13,
     "metadata": {},
     "output_type": "execute_result"
    }
   ],
   "source": [
    "shared_words = df_train[df_train['target']== 0]['keyword'].value_counts(ascending = False)[:30].index.isin(df_train[df_train['target']== 1]['keyword'].value_counts(ascending = False)[:30].index)\n",
    "shared_words"
   ]
  },
  {
   "cell_type": "markdown",
   "id": "4b70cdd8",
   "metadata": {},
   "source": [
    "### We observed the most frequntly used keywords at disaster/non-disaster tweets: there is no shared words."
   ]
  },
  {
   "cell_type": "code",
   "execution_count": 14,
   "id": "2d101434",
   "metadata": {},
   "outputs": [],
   "source": [
    "def clean_text(text):\n",
    "    text=str(text).lower() #converts text to lowercase\n",
    "    text=re.sub('\\d+', '', text) #removes numbers\n",
    "    text=re.sub('\\[.*?\\]', '', text) #removes HTML tags\n",
    "    text=re.sub('https?://\\S+|www\\.\\S+', '', text) #removes url\n",
    "    text=re.sub(r\"[\"\n",
    "                           u\"\\U0001F600-\\U0001F64F\"  # emoticons\n",
    "                           u\"\\U0001F300-\\U0001F5FF\"  # symbols & pictographs\n",
    "                           u\"\\U0001F680-\\U0001F6FF\"  # transport & map symbols\n",
    "                           u\"\\U0001F1E0-\\U0001F1FF\"  # flags (iOS)\n",
    "                           u\"\\U00002702-\\U000027B0\"\n",
    "                           u\"\\U000024C2-\\U0001F251\"\n",
    "                           \"]+\", \"\", text) #removes emojis\n",
    "\n",
    "    text = text.translate(str.maketrans('', '', string.punctuation))    #removes punctuations\n",
    "    return text"
   ]
  },
  {
   "cell_type": "code",
   "execution_count": 27,
   "id": "2153aca1",
   "metadata": {},
   "outputs": [],
   "source": [
    "df_train['clean_text']=df_train['text'].apply(clean_text)# apply a clean_text function on 'text' row \n",
    "df_train.head(10)# checking\n",
    "df_test['clean_text']=df_test['text'].apply(clean_text)"
   ]
  },
  {
   "cell_type": "code",
   "execution_count": 28,
   "id": "f17be426",
   "metadata": {},
   "outputs": [],
   "source": [
    "# removing stopwords using nltk\n",
    "df_train['clean_text'] = df_train['clean_text'].apply(lambda x: ' '.join([word for word in x.split() if word not in (stop)]))\n",
    "df_train.head()\n",
    "df_test['clean_text'] = df_test['clean_text'].apply(lambda x: ' '.join([word for word in x.split() if word not in (stop)]))\n"
   ]
  },
  {
   "cell_type": "code",
   "execution_count": 29,
   "id": "91b58481",
   "metadata": {},
   "outputs": [],
   "source": [
    "lemma=WordNetLemmatizer()\n",
    "#transform clear text to lemma\n",
    "def lemmatizer(text):\n",
    "    text= ' '.join(lemma.lemmatize(word) for word in text.split(' '))\n",
    "    return text\n",
    "\n",
    "df_train['final_text']=df_train['clean_text'].apply(lemmatizer)\n",
    "df_train.head()\n",
    "df_test['final_text']=df_test['clean_text'].apply(lemmatizer)"
   ]
  },
  {
   "cell_type": "markdown",
   "id": "d79d508d",
   "metadata": {},
   "source": [
    "### We cleared the text from punctuations, emojis, hashtags, stopwords and transformed it to lemma. Now it's time to train and test our models."
   ]
  },
  {
   "cell_type": "code",
   "execution_count": 18,
   "id": "e19860b3",
   "metadata": {},
   "outputs": [],
   "source": [
    "X=df_train['final_text']\n",
    "y=df_train['target'].values"
   ]
  },
  {
   "cell_type": "code",
   "execution_count": 19,
   "id": "69533a53",
   "metadata": {},
   "outputs": [],
   "source": [
    "from sklearn.model_selection import train_test_split\n",
    "\n",
    "X_train,X_valid,y_train,y_valid=train_test_split(X,y,test_size= 0.2, random_state= 123456,stratify=y) #splitting "
   ]
  },
  {
   "cell_type": "code",
   "execution_count": 20,
   "id": "b53b1237",
   "metadata": {},
   "outputs": [],
   "source": [
    "tfidf=TfidfVectorizer()\n",
    "X_train=tfidf.fit_transform(X_train).toarray()\n",
    "X_valid=tfidf.transform(X_valid).toarray()\n"
   ]
  },
  {
   "cell_type": "code",
   "execution_count": 21,
   "id": "0b09573f",
   "metadata": {},
   "outputs": [
    {
     "name": "stdout",
     "output_type": "stream",
     "text": [
      "Best hyperparams:\n",
      "{'max_depth': 18, 'n_estimators': 5, 'random_state': 123456}\n",
      "Tuning hyperparams time:529.4150891304016\n"
     ]
    }
   ],
   "source": [
    "train_start = time.time()\n",
    "model = RandomForestClassifier() \n",
    "hyperparams = [{'n_estimators' : [x for x in range(1, 10)], \n",
    "                'max_depth':[x for x in range(1, 20)], \n",
    "                'random_state':[123456]}]\n",
    "\n",
    "clf = GridSearchCV(model, hyperparams, scoring='accuracy')\n",
    "clf.fit(X_train, y_train)\n",
    "print(\"Best hyperparams:\")\n",
    "\n",
    "print(clf.best_params_)\n",
    "train_end = time.time()\n",
    "print('Tuning hyperparams time:{}'.format(train_end - train_start))"
   ]
  },
  {
   "cell_type": "code",
   "execution_count": 22,
   "id": "bffaa63b",
   "metadata": {},
   "outputs": [
    {
     "name": "stdout",
     "output_type": "stream",
     "text": [
      "Best hyperparams:\n",
      "{'max_depth': 11, 'num_leaves': 21, 'random_state': 123456}\n",
      "Tuning hyperparams time:99.77476501464844\n"
     ]
    }
   ],
   "source": [
    "train_start = time.time()\n",
    "model = LGBMClassifier() \n",
    "\n",
    "hyperparams = [{'num_leaves' : [x for x in range(1, 102, 20)], \n",
    "                'max_depth':[x for x in range(1, 12, 2)],\n",
    "                'random_state':[123456]}]\n",
    "\n",
    "\n",
    "clf = GridSearchCV(model, hyperparams, scoring='accuracy')\n",
    "clf.fit(X_train, y_train)\n",
    "print(\"Best hyperparams:\")\n",
    "\n",
    "print(clf.best_params_)\n",
    "train_end = time.time()\n",
    "print('Tuning hyperparams time:{}'.format(train_end - train_start))"
   ]
  },
  {
   "cell_type": "code",
   "execution_count": 23,
   "id": "1554f61f",
   "metadata": {},
   "outputs": [
    {
     "name": "stdout",
     "output_type": "stream",
     "text": [
      "Best hyperparams:\n",
      "{'max_depth': 19, 'random_state': 123456}\n",
      "Tuning hyperparams time:718.1346273422241\n"
     ]
    }
   ],
   "source": [
    "train_start = time.time()\n",
    "model = DecisionTreeClassifier() \n",
    "\n",
    "hyperparams = [{'max_depth':[x for x in range(1, 20)], \n",
    "                'random_state':[123456]}]\n",
    "\n",
    "\n",
    "clf = GridSearchCV(model, hyperparams, scoring='accuracy')\n",
    "clf.fit(X_train, y_train)\n",
    "print(\"Best hyperparams:\")\n",
    "\n",
    "print(clf.best_params_)\n",
    "train_end = time.time()\n",
    "print('Tuning hyperparams time:{}'.format(train_end - train_start))"
   ]
  },
  {
   "cell_type": "code",
   "execution_count": 25,
   "id": "5a2c6446",
   "metadata": {},
   "outputs": [
    {
     "data": {
      "text/html": [
       "<div>\n",
       "<style scoped>\n",
       "    .dataframe tbody tr th:only-of-type {\n",
       "        vertical-align: middle;\n",
       "    }\n",
       "\n",
       "    .dataframe tbody tr th {\n",
       "        vertical-align: top;\n",
       "    }\n",
       "\n",
       "    .dataframe thead th {\n",
       "        text-align: right;\n",
       "    }\n",
       "</style>\n",
       "<table border=\"1\" class=\"dataframe\">\n",
       "  <thead>\n",
       "    <tr style=\"text-align: right;\">\n",
       "      <th></th>\n",
       "      <th>model_name</th>\n",
       "      <th>training time</th>\n",
       "      <th>prediction time</th>\n",
       "      <th>accuracy</th>\n",
       "    </tr>\n",
       "  </thead>\n",
       "  <tbody>\n",
       "    <tr>\n",
       "      <th>0</th>\n",
       "      <td>RandomForestClassifier</td>\n",
       "      <td>0.708219</td>\n",
       "      <td>0.092061</td>\n",
       "      <td>0.686802</td>\n",
       "    </tr>\n",
       "    <tr>\n",
       "      <th>1</th>\n",
       "      <td>DecisionTreeClassifier</td>\n",
       "      <td>18.289712</td>\n",
       "      <td>0.062500</td>\n",
       "      <td>0.700591</td>\n",
       "    </tr>\n",
       "    <tr>\n",
       "      <th>2</th>\n",
       "      <td>LGBMClassifier</td>\n",
       "      <td>0.469144</td>\n",
       "      <td>0.031246</td>\n",
       "      <td>0.772160</td>\n",
       "    </tr>\n",
       "  </tbody>\n",
       "</table>\n",
       "</div>"
      ],
      "text/plain": [
       "               model_name  training time  prediction time  accuracy\n",
       "0  RandomForestClassifier       0.708219         0.092061  0.686802\n",
       "1  DecisionTreeClassifier      18.289712         0.062500  0.700591\n",
       "2          LGBMClassifier       0.469144         0.031246  0.772160"
      ]
     },
     "execution_count": 25,
     "metadata": {},
     "output_type": "execute_result"
    }
   ],
   "source": [
    "models = [RandomForestClassifier(max_depth = 18, n_estimators = 5, random_state = 123456), \n",
    "          DecisionTreeClassifier(max_depth = 19, random_state= 123456),\n",
    "          LGBMClassifier(max_depth= 11, num_leaves = 21, random_state= 123456)]\n",
    "\n",
    "\n",
    "results = []\n",
    "\n",
    "for model in models: \n",
    "    train_start = time.time()  \n",
    "    model.fit(X_train, y_train)\n",
    "    train_end = time.time()\n",
    "    predict_start = time.time()\n",
    "    pred = model.predict(X_valid)\n",
    "    predict_end = time.time()\n",
    "    accuracy = accuracy_score(y_valid, pred)\n",
    "    results.append({'model_name': model.__class__.__name__, \n",
    "                    'training time': train_end - train_start,\n",
    "                    'prediction time': predict_end - predict_start,\n",
    "                    'accuracy': accuracy                              \n",
    "                              })  \n",
    "              \n",
    "res = pd.DataFrame(results)\n",
    "res"
   ]
  },
  {
   "cell_type": "code",
   "execution_count": 35,
   "id": "238e883f",
   "metadata": {},
   "outputs": [
    {
     "data": {
      "text/plain": [
       "0       1\n",
       "1       1\n",
       "2       1\n",
       "3       1\n",
       "4       1\n",
       "       ..\n",
       "3258    1\n",
       "3259    1\n",
       "3260    1\n",
       "3261    1\n",
       "3262    0\n",
       "Name: target, Length: 3263, dtype: int64"
      ]
     },
     "execution_count": 35,
     "metadata": {},
     "output_type": "execute_result"
    }
   ],
   "source": [
    "test_frame = tfidf.transform(df_test['final_text']).toarray()\n",
    "model = LGBMClassifier(max_depth= 11, num_leaves = 21, random_state= 123456)\n",
    "model.fit(X_train,y_train)\n",
    "pred = model.predict(test_frame)\n",
    "submission = df_test[['id']].reset_index(drop=True)\n",
    "submission['target'] = pred\n",
    "submission['target']"
   ]
  },
  {
   "cell_type": "code",
   "execution_count": 36,
   "id": "a8eddcb6",
   "metadata": {},
   "outputs": [
    {
     "data": {
      "text/html": [
       "<div>\n",
       "<style scoped>\n",
       "    .dataframe tbody tr th:only-of-type {\n",
       "        vertical-align: middle;\n",
       "    }\n",
       "\n",
       "    .dataframe tbody tr th {\n",
       "        vertical-align: top;\n",
       "    }\n",
       "\n",
       "    .dataframe thead th {\n",
       "        text-align: right;\n",
       "    }\n",
       "</style>\n",
       "<table border=\"1\" class=\"dataframe\">\n",
       "  <thead>\n",
       "    <tr style=\"text-align: right;\">\n",
       "      <th></th>\n",
       "      <th>id</th>\n",
       "      <th>target</th>\n",
       "    </tr>\n",
       "  </thead>\n",
       "  <tbody>\n",
       "    <tr>\n",
       "      <th>0</th>\n",
       "      <td>0</td>\n",
       "      <td>1</td>\n",
       "    </tr>\n",
       "    <tr>\n",
       "      <th>1</th>\n",
       "      <td>2</td>\n",
       "      <td>1</td>\n",
       "    </tr>\n",
       "    <tr>\n",
       "      <th>2</th>\n",
       "      <td>3</td>\n",
       "      <td>1</td>\n",
       "    </tr>\n",
       "    <tr>\n",
       "      <th>3</th>\n",
       "      <td>9</td>\n",
       "      <td>1</td>\n",
       "    </tr>\n",
       "    <tr>\n",
       "      <th>4</th>\n",
       "      <td>11</td>\n",
       "      <td>1</td>\n",
       "    </tr>\n",
       "    <tr>\n",
       "      <th>...</th>\n",
       "      <td>...</td>\n",
       "      <td>...</td>\n",
       "    </tr>\n",
       "    <tr>\n",
       "      <th>3258</th>\n",
       "      <td>10861</td>\n",
       "      <td>1</td>\n",
       "    </tr>\n",
       "    <tr>\n",
       "      <th>3259</th>\n",
       "      <td>10865</td>\n",
       "      <td>1</td>\n",
       "    </tr>\n",
       "    <tr>\n",
       "      <th>3260</th>\n",
       "      <td>10868</td>\n",
       "      <td>1</td>\n",
       "    </tr>\n",
       "    <tr>\n",
       "      <th>3261</th>\n",
       "      <td>10874</td>\n",
       "      <td>1</td>\n",
       "    </tr>\n",
       "    <tr>\n",
       "      <th>3262</th>\n",
       "      <td>10875</td>\n",
       "      <td>0</td>\n",
       "    </tr>\n",
       "  </tbody>\n",
       "</table>\n",
       "<p>3263 rows × 2 columns</p>\n",
       "</div>"
      ],
      "text/plain": [
       "         id  target\n",
       "0         0       1\n",
       "1         2       1\n",
       "2         3       1\n",
       "3         9       1\n",
       "4        11       1\n",
       "...     ...     ...\n",
       "3258  10861       1\n",
       "3259  10865       1\n",
       "3260  10868       1\n",
       "3261  10874       1\n",
       "3262  10875       0\n",
       "\n",
       "[3263 rows x 2 columns]"
      ]
     },
     "execution_count": 36,
     "metadata": {},
     "output_type": "execute_result"
    }
   ],
   "source": [
    "submission"
   ]
  },
  {
   "cell_type": "code",
   "execution_count": 37,
   "id": "de030a22",
   "metadata": {},
   "outputs": [],
   "source": [
    "submission.to_csv('C:/Users/VovAz/OneDrive/Desktop/Проект/Disaster/submission.csv', index=False)"
   ]
  },
  {
   "cell_type": "code",
   "execution_count": null,
   "id": "85d3bd55",
   "metadata": {},
   "outputs": [],
   "source": []
  }
 ],
 "metadata": {
  "kernelspec": {
   "display_name": "Python 3 (ipykernel)",
   "language": "python",
   "name": "python3"
  },
  "language_info": {
   "codemirror_mode": {
    "name": "ipython",
    "version": 3
   },
   "file_extension": ".py",
   "mimetype": "text/x-python",
   "name": "python",
   "nbconvert_exporter": "python",
   "pygments_lexer": "ipython3",
   "version": "3.9.13"
  }
 },
 "nbformat": 4,
 "nbformat_minor": 5
}
