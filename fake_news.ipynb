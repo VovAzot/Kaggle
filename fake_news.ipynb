{
 "cells": [
  {
   "cell_type": "markdown",
   "id": "55c77952",
   "metadata": {},
   "source": [
    "# Fake news detection"
   ]
  },
  {
   "cell_type": "code",
   "execution_count": 1,
   "id": "18cf6d8e",
   "metadata": {},
   "outputs": [
    {
     "name": "stderr",
     "output_type": "stream",
     "text": [
      "[nltk_data] Downloading package punkt to\n",
      "[nltk_data]     C:\\Users\\VovAz\\AppData\\Roaming\\nltk_data...\n",
      "[nltk_data]   Package punkt is already up-to-date!\n",
      "[nltk_data] Downloading package wordnet to\n",
      "[nltk_data]     C:\\Users\\VovAz\\AppData\\Roaming\\nltk_data...\n",
      "[nltk_data]   Package wordnet is already up-to-date!\n",
      "[nltk_data] Downloading package stopwords to\n",
      "[nltk_data]     C:\\Users\\VovAz\\AppData\\Roaming\\nltk_data...\n",
      "[nltk_data]   Package stopwords is already up-to-date!\n"
     ]
    }
   ],
   "source": [
    "import pandas as pd\n",
    "import sweetviz as sv#EDA lib\n",
    "import numpy as np\n",
    "import seaborn as sns#visualization\n",
    "import re#regular  expressions\n",
    "import string\n",
    "import nltk #NLP\n",
    "import nltk.corpus\n",
    "from nltk.corpus import stopwords\n",
    "nltk.download('punkt')\n",
    "nltk.download('wordnet')\n",
    "nltk.download('stopwords')\n",
    "from nltk.stem import WordNetLemmatizer\n",
    "stop=set(stopwords.words('english'))\n",
    "import tensorflow as tf#ML\n",
    "import tensorflow_hub as hub\n",
    "import tensorflow_text as text\n",
    "from tensorflow import keras\n",
    "from sklearn.model_selection import train_test_split"
   ]
  },
  {
   "cell_type": "code",
   "execution_count": 2,
   "id": "c1bd2f55",
   "metadata": {},
   "outputs": [
    {
     "name": "stdout",
     "output_type": "stream",
     "text": [
      "<class 'pandas.core.frame.DataFrame'>\n",
      "RangeIndex: 21417 entries, 0 to 21416\n",
      "Data columns (total 4 columns):\n",
      " #   Column   Non-Null Count  Dtype \n",
      "---  ------   --------------  ----- \n",
      " 0   title    21417 non-null  object\n",
      " 1   text     21417 non-null  object\n",
      " 2   subject  21417 non-null  object\n",
      " 3   date     21417 non-null  object\n",
      "dtypes: object(4)\n",
      "memory usage: 669.4+ KB\n",
      "<class 'pandas.core.frame.DataFrame'>\n",
      "RangeIndex: 23481 entries, 0 to 23480\n",
      "Data columns (total 4 columns):\n",
      " #   Column   Non-Null Count  Dtype \n",
      "---  ------   --------------  ----- \n",
      " 0   title    23481 non-null  object\n",
      " 1   text     23481 non-null  object\n",
      " 2   subject  23481 non-null  object\n",
      " 3   date     23481 non-null  object\n",
      "dtypes: object(4)\n",
      "memory usage: 733.9+ KB\n"
     ]
    },
    {
     "name": "stderr",
     "output_type": "stream",
     "text": [
      "C:\\Users\\VovAz\\anaconda3\\lib\\site-packages\\sweetviz\\dataframe_report.py:74: FutureWarning: iteritems is deprecated and will be removed in a future version. Use .items instead.\n",
      "  all_source_names = [cur_name for cur_name, cur_series in source_df.iteritems()]\n",
      "C:\\Users\\VovAz\\anaconda3\\lib\\site-packages\\sweetviz\\dataframe_report.py:109: FutureWarning: iteritems is deprecated and will be removed in a future version. Use .items instead.\n",
      "  filtered_series_names_in_source = [cur_name for cur_name, cur_series in source_df.iteritems()\n"
     ]
    },
    {
     "data": {
      "application/vnd.jupyter.widget-view+json": {
       "model_id": "a3231b70d38f4152974bdcb1b2314fe3",
       "version_major": 2,
       "version_minor": 0
      },
      "text/plain": [
       "                                             |                                             | [  0%]   00:00 ->…"
      ]
     },
     "metadata": {},
     "output_type": "display_data"
    },
    {
     "name": "stderr",
     "output_type": "stream",
     "text": [
      "C:\\Users\\VovAz\\anaconda3\\lib\\site-packages\\sweetviz\\series_analyzer_text.py:19: FutureWarning: iteritems is deprecated and will be removed in a future version. Use .items instead.\n",
      "  for item in to_process.source_counts[\"value_counts_without_nan\"].iteritems():\n",
      "C:\\Users\\VovAz\\anaconda3\\lib\\site-packages\\sweetviz\\series_analyzer_text.py:19: FutureWarning: iteritems is deprecated and will be removed in a future version. Use .items instead.\n",
      "  for item in to_process.source_counts[\"value_counts_without_nan\"].iteritems():\n",
      "C:\\Users\\VovAz\\anaconda3\\lib\\site-packages\\sweetviz\\series_analyzer_cat.py:28: FutureWarning: iteritems is deprecated and will be removed in a future version. Use .items instead.\n",
      "  for item in category_counts.iteritems():\n",
      "C:\\Users\\VovAz\\anaconda3\\lib\\site-packages\\sweetviz\\series_analyzer_text.py:19: FutureWarning: iteritems is deprecated and will be removed in a future version. Use .items instead.\n",
      "  for item in to_process.source_counts[\"value_counts_without_nan\"].iteritems():\n"
     ]
    },
    {
     "name": "stdout",
     "output_type": "stream",
     "text": [
      "Report SWEETVIZ_REPORT.html was generated! NOTEBOOK/COLAB USERS: the web browser MAY not pop up, regardless, the report IS saved in your notebook/colab files.\n"
     ]
    },
    {
     "name": "stderr",
     "output_type": "stream",
     "text": [
      "C:\\Users\\VovAz\\anaconda3\\lib\\site-packages\\sweetviz\\dataframe_report.py:74: FutureWarning: iteritems is deprecated and will be removed in a future version. Use .items instead.\n",
      "  all_source_names = [cur_name for cur_name, cur_series in source_df.iteritems()]\n",
      "C:\\Users\\VovAz\\anaconda3\\lib\\site-packages\\sweetviz\\dataframe_report.py:109: FutureWarning: iteritems is deprecated and will be removed in a future version. Use .items instead.\n",
      "  filtered_series_names_in_source = [cur_name for cur_name, cur_series in source_df.iteritems()\n"
     ]
    },
    {
     "data": {
      "application/vnd.jupyter.widget-view+json": {
       "model_id": "bdedcd103bca461f8999bf1299362062",
       "version_major": 2,
       "version_minor": 0
      },
      "text/plain": [
       "                                             |                                             | [  0%]   00:00 ->…"
      ]
     },
     "metadata": {},
     "output_type": "display_data"
    },
    {
     "name": "stderr",
     "output_type": "stream",
     "text": [
      "C:\\Users\\VovAz\\anaconda3\\lib\\site-packages\\sweetviz\\series_analyzer_text.py:19: FutureWarning: iteritems is deprecated and will be removed in a future version. Use .items instead.\n",
      "  for item in to_process.source_counts[\"value_counts_without_nan\"].iteritems():\n",
      "C:\\Users\\VovAz\\anaconda3\\lib\\site-packages\\sweetviz\\series_analyzer_text.py:19: FutureWarning: iteritems is deprecated and will be removed in a future version. Use .items instead.\n",
      "  for item in to_process.source_counts[\"value_counts_without_nan\"].iteritems():\n",
      "C:\\Users\\VovAz\\anaconda3\\lib\\site-packages\\sweetviz\\series_analyzer_cat.py:28: FutureWarning: iteritems is deprecated and will be removed in a future version. Use .items instead.\n",
      "  for item in category_counts.iteritems():\n",
      "C:\\Users\\VovAz\\anaconda3\\lib\\site-packages\\sweetviz\\series_analyzer_text.py:19: FutureWarning: iteritems is deprecated and will be removed in a future version. Use .items instead.\n",
      "  for item in to_process.source_counts[\"value_counts_without_nan\"].iteritems():\n"
     ]
    },
    {
     "name": "stdout",
     "output_type": "stream",
     "text": [
      "Report SWEETVIZ_REPORT.html was generated! NOTEBOOK/COLAB USERS: the web browser MAY not pop up, regardless, the report IS saved in your notebook/colab files.\n"
     ]
    }
   ],
   "source": [
    "df_fake = pd.read_csv('C:/Users/VovAz/OneDrive/Desktop/Проект/Fake news/fake.csv')# Read data\n",
    "df_true = pd.read_csv('C:/Users/VovAz/OneDrive/Desktop/Проект/Fake news/true.csv')\n",
    "\n",
    "df_true.info()\n",
    "df_fake.info()\n",
    "my_report = sv.analyze(df_true)\n",
    "my_report.show_html() # Default arguments will generate to \"SWEETVIZ_REPORT.html\"\n",
    "my_report1 = sv.analyze(df_fake)\n",
    "my_report1.show_html() # Default arguments will generate to \"SWEETVIZ_REPORT.html\""
   ]
  },
  {
   "cell_type": "markdown",
   "id": "4364b5a6",
   "metadata": {},
   "source": [
    "### EDA shows us, that data contains some duplicates and there is no missing values."
   ]
  },
  {
   "cell_type": "code",
   "execution_count": 3,
   "id": "f5bd8a3f",
   "metadata": {},
   "outputs": [],
   "source": [
    "df_fake.drop_duplicates(inplace = True)# drop duplicates\n",
    "df_true.drop_duplicates(inplace = True)"
   ]
  },
  {
   "cell_type": "code",
   "execution_count": 4,
   "id": "b5b96087",
   "metadata": {},
   "outputs": [],
   "source": [
    "df_fake['is_fake'] = 1 #creating new column with targets\n",
    "df_true['is_fake'] = 0\n",
    "df = pd.concat([df_true, df_fake], ignore_index = True) #concat two tables in one"
   ]
  },
  {
   "cell_type": "code",
   "execution_count": 5,
   "id": "ab6fc6a8",
   "metadata": {},
   "outputs": [
    {
     "data": {
      "text/plain": [
       "<Axes: xlabel='is_fake', ylabel='count'>"
      ]
     },
     "execution_count": 5,
     "metadata": {},
     "output_type": "execute_result"
    },
    {
     "data": {
      "image/png": "[encoded data removed]",
      "text/plain": [
       "<Figure size 640x480 with 1 Axes>"
      ]
     },
     "metadata": {},
     "output_type": "display_data"
    }
   ],
   "source": [
    "sns.countplot(x = df['is_fake'])"
   ]
  },
  {
   "cell_type": "code",
   "execution_count": 6,
   "id": "d5066940",
   "metadata": {},
   "outputs": [
    {
     "name": "stdout",
     "output_type": "stream",
     "text": [
      "News               9050\n",
      "politics           6838\n",
      "left-news          4459\n",
      "Government News    1570\n",
      "US_News             783\n",
      "Middle-east         778\n",
      "Name: subject, dtype: int64\n",
      "\n",
      " politicsNews    11220\n",
      "worldnews        9991\n",
      "Name: subject, dtype: int64\n"
     ]
    }
   ],
   "source": [
    "print(df['subject'][df['is_fake'] == 1].value_counts())\n",
    "print('\\n',df['subject'][df['is_fake'] == 0].value_counts())\n",
    "#%%"
   ]
  },
  {
   "cell_type": "markdown",
   "id": "c2a7fe3d",
   "metadata": {},
   "source": [
    "### We observing, that data target is pretty balanced, but subject of news is not the same at fake and true news, so we can't use this infomation for fitting model"
   ]
  },
  {
   "cell_type": "code",
   "execution_count": 7,
   "id": "e4e58466",
   "metadata": {},
   "outputs": [
    {
     "name": "stdout",
     "output_type": "stream",
     "text": [
      "0    WASHINGTON (Reuters) - The head of a conservat...\n",
      "1    WASHINGTON (Reuters) - Transgender people will...\n",
      "2    WASHINGTON (Reuters) - The special counsel inv...\n",
      "3    WASHINGTON (Reuters) - Trump campaign adviser ...\n",
      "4    SEATTLE/WASHINGTON (Reuters) - President Donal...\n",
      "Name: text, dtype: object\n"
     ]
    }
   ],
   "source": [
    "df['text'] = df['text'] + \" \" + df['title'] # merging title and text of news in one feature\n",
    "print(df['text'].head())"
   ]
  },
  {
   "cell_type": "code",
   "execution_count": 8,
   "id": "afcea346",
   "metadata": {},
   "outputs": [],
   "source": [
    "def clean_text(text):#function for cleaning text\n",
    "    text=str(text).lower() #converts text to lowercase\n",
    "    text=re.sub('\\d+', '', text) #removes numbers\n",
    "    text=re.sub('\\[.*?\\]', '', text) #removes HTML tags\n",
    "    text=re.sub('https?://\\S+|www\\.\\S+', '', text) #removes url\n",
    "    text=re.sub(r\"[\"\n",
    "                           u\"\\U0001F600-\\U0001F64F\"  # emoticons\n",
    "                           u\"\\U0001F300-\\U0001F5FF\"  # symbols & pictographs\n",
    "                           u\"\\U0001F680-\\U0001F6FF\"  # transport & map symbols\n",
    "                           u\"\\U0001F1E0-\\U0001F1FF\"  # flags (iOS)\n",
    "                           u\"\\U00002702-\\U000027B0\"\n",
    "                           u\"\\U000024C2-\\U0001F251\"\n",
    "                           \"]+\", \"\", text) #removes emojis\n",
    "\n",
    "    text = text.translate(str.maketrans('', '', string.punctuation))    #removes punctuations\n",
    "    return text"
   ]
  },
  {
   "cell_type": "code",
   "execution_count": 9,
   "id": "d92cc6de",
   "metadata": {},
   "outputs": [
    {
     "data": {
      "text/plain": [
       "0    washington reuters head conservative republica...\n",
       "1    washington reuters transgender people allowed ...\n",
       "2    washington reuters special counsel investigati...\n",
       "3    washington reuters trump campaign adviser geor...\n",
       "4    seattlewashington reuters president donald tru...\n",
       "Name: clean_text, dtype: object"
      ]
     },
     "execution_count": 9,
     "metadata": {},
     "output_type": "execute_result"
    }
   ],
   "source": [
    "df['clean_text'] = df['text'].apply(clean_text)\n",
    "\n",
    "df['clean_text'] = df['clean_text'].apply(lambda x: ' '.join(\n",
    "    [word for word in x.split() if word not in (stop)]))#removing stopwords\n",
    "df['clean_text'].head()"
   ]
  },
  {
   "cell_type": "code",
   "execution_count": 10,
   "id": "ce212c39",
   "metadata": {},
   "outputs": [],
   "source": [
    "X=df['clean_text'] #feature\n",
    "y=df['is_fake'].values #target\n",
    "X_train1,X_valid,y_train1,y_valid=train_test_split(X,y,test_size= 0.2, random_state= 123456, shuffle=True) #using Shuffle after applying concat\n",
    "X_train, X_test, y_train, y_test = train_test_split(X_train1, y_train1,\n",
    "                                                    test_size = 0.25, random_state = 123456, shuffle=True)\n",
    "# splitting data on train,valid and test sets"
   ]
  },
  {
   "cell_type": "code",
   "execution_count": 11,
   "id": "58fbd389",
   "metadata": {},
   "outputs": [
    {
     "name": "stdout",
     "output_type": "stream",
     "text": [
      "WARNING:tensorflow:Please fix your imports. Module tensorflow.python.training.tracking.data_structures has been moved to tensorflow.python.trackable.data_structures. The old module will be deleted in version 2.11.\n"
     ]
    }
   ],
   "source": [
    "bert_preprocess = hub.KerasLayer(\"https://tfhub.dev/tensorflow/bert_en_uncased_preprocess/3\")\n",
    "bert_encoder = hub.KerasLayer(\"https://tfhub.dev/tensorflow/bert_en_uncased_L-12_H-768_A-12/4\")\n"
   ]
  },
  {
   "cell_type": "raw",
   "id": "afb7dafb",
   "metadata": {},
   "source": [
    "text_input = tf.keras.layers.Input(shape=(), dtype=tf.string, name='text')\n",
    "preprocessed_text = bert_preprocess(text_input)\n",
    "outputs = bert_encoder(preprocessed_text)\n",
    "\n",
    "# Neural network layers\n",
    "l = tf.keras.layers.Dropout(0.1, name=\"dropout\")(outputs['pooled_output'])#reduce overfitting\n",
    "#l = tf.keras.layers.Dense(3, activation='leaky_relu')(l)\n",
    "l = tf.keras.layers.Dense(1, activation='sigmoid', name=\"output\")(l)\n",
    "\n",
    "\n",
    "# Use inputs and outputs to construct a final model\n",
    "model = tf.keras.Model(inputs=[text_input], outputs = [l])\n",
    "#%%\n",
    "model.compile(optimizer='adam',\n",
    "              loss='binary_crossentropy',\n",
    "              metrics=['AUC'])"
   ]
  },
  {
   "cell_type": "raw",
   "id": "127bc086",
   "metadata": {},
   "source": [
    "model.fit(X_train, y_train, epochs=5, validation_data=(X_valid, y_valid))\n",
    "#%%\n",
    "model.save('C:/Users/VovAz/OneDrive/Desktop/Проект/Fake news/model/')\n",
    "#%%"
   ]
  },
  {
   "cell_type": "markdown",
   "id": "b8097852",
   "metadata": {},
   "source": [
    "### Due low perfomance i fitted model separatly "
   ]
  },
  {
   "cell_type": "code",
   "execution_count": 12,
   "id": "289b3e72",
   "metadata": {},
   "outputs": [
    {
     "name": "stdout",
     "output_type": "stream",
     "text": [
      "280/280 [==============================] - 2127s 8s/step - loss: 0.2168 - auc: 0.9740\n"
     ]
    },
    {
     "data": {
      "text/plain": [
       "[0.21681901812553406, 0.9739789962768555]"
      ]
     },
     "execution_count": 12,
     "metadata": {},
     "output_type": "execute_result"
    }
   ],
   "source": [
    "model2 = keras.models.load_model('C:/Users/VovAz/OneDrive/Desktop/Проект/Fake news/model/')\n",
    "model2.evaluate(X_test, y_test)"
   ]
  },
  {
   "cell_type": "code",
   "execution_count": 18,
   "id": "2f097266",
   "metadata": {},
   "outputs": [
    {
     "name": "stdout",
     "output_type": "stream",
     "text": [
      "1/1 [==============================] - 0s 279ms/step\n"
     ]
    },
    {
     "data": {
      "text/plain": [
       "array([[0.11775495]], dtype=float32)"
      ]
     },
     "execution_count": 18,
     "metadata": {},
     "output_type": "execute_result"
    }
   ],
   "source": [
    "model2.predict(pd.Series('Supreme Court Skeptical of Biden’s Student Loan Cancellation PlanThe Biden administration wants to wipe out $400 billion in student debt, but the court’s conservative majority questioned its power to do so. Six Republican-dominated states — Nebraska, Missouri, Arkansas, Iowa, Kansas and South Carolina — and two individuals sued to stop the plan.'))"
   ]
  },
  {
   "cell_type": "code",
   "execution_count": 19,
   "id": "957491c5",
   "metadata": {},
   "outputs": [
    {
     "name": "stdout",
     "output_type": "stream",
     "text": [
      "1/1 [==============================] - 0s 290ms/step\n"
     ]
    },
    {
     "data": {
      "text/plain": [
       "array([[0.99730694]], dtype=float32)"
      ]
     },
     "execution_count": 19,
     "metadata": {},
     "output_type": "execute_result"
    }
   ],
   "source": [
    "model2.predict(pd.Series('Fred Rogers wore his iconic sweaters to conceal the extensive tattoos on his arms that were acquired while serving in the military. '))"
   ]
  },
  {
   "cell_type": "code",
   "execution_count": 41,
   "id": "c4239b54",
   "metadata": {},
   "outputs": [
    {
     "name": "stdout",
     "output_type": "stream",
     "text": [
      "1/1 [==============================] - 0s 306ms/step\n"
     ]
    },
    {
     "data": {
      "text/plain": [
       "array([[0.80633384]], dtype=float32)"
      ]
     },
     "execution_count": 41,
     "metadata": {},
     "output_type": "execute_result"
    }
   ],
   "source": [
    "model2.predict(pd.Series('Pointing out that every armored vehicles they have received to date lacked signatures of basketball greats, Ukrainian President Volodymyr Zelensky requested Tuesday that the United States government send a tank autographed by Shaquille O’Neal. “While we appreciate the many Javelin anti-aircraft systems and artillery, none of them were signed by one of the best NBA centers of all time, the Big Shamrock himself,” said Zelensky, explaining that he and the rest of the nation were huge fans and an M1 Abrams tank with a signature in big letters across the vehicle’s side skirt or turret from the four-time NBA champion would really help the war effort and boost morale of the Ukrainian people. “We all grew up watching The Diesel and if we had a tank signed by Shaq, who dominated the court for 19 years, it would inspire us to dominate the Russians on the battlefield. Also, if the signed tank could also be transported in an acrylic protective case, that would be great.” At press time, Zelensky had posted the one-of-a-kind Shaquille O’Neal-signed tank on eBay.'))"
   ]
  },
  {
   "cell_type": "code",
   "execution_count": 40,
   "id": "684ae96d",
   "metadata": {},
   "outputs": [
    {
     "name": "stdout",
     "output_type": "stream",
     "text": [
      "1/1 [==============================] - 0s 323ms/step\n"
     ]
    },
    {
     "data": {
      "text/plain": [
       "array([[0.02271237]], dtype=float32)"
      ]
     },
     "execution_count": 40,
     "metadata": {},
     "output_type": "execute_result"
    }
   ],
   "source": [
    "model2.predict(pd.Series('The United States directly warned Tuesday that it would target Chinese firms or people involved in any effort to send lethal aid to Russia for its war in Ukraine, underscoring a fast-deepening showdown with its superpower rival.In the most specific public admonition on the issue to Beijing so far, US Secretary of State Antony Blinken underlined that arming Moscow’s forces would cause China serious problems around the world.“China can’t have it both ways when it comes to … the Russian aggression in Ukraine. It can’t be putting forward peace proposals on the one hand, while actually feeding the flames of the fire that Russia has started with the other hand,” Blinken said in Kazakhstan.US officials have spent the past 10 days warning that it has intelligence that China is considering sending lethal aid to Russia, causing fury in Beijing and underscoring how already deteriorating diplomatic relations are being rocked by almost daily crises – from a recent spy balloon controversy to a revived dispute over the specific origins of Covid-19. On Monday evening, the White House gave federal agencies a 30-day deadline to remove TikTok, which is owned by Chinese company ByteDance, from federal devices. And later Tuesday, a new House select committee will hold its first hearing on the fast-widening US-China rivalry.In his clearest comments about how the US would respond if China did decide to help its ally Russia with lethal aid, Blinken spoke of punishments for Chinese firms that could cause Beijing to pay an economic price.“We did very clearly warn China about the implications and consequences of going through with providing such support,” referring to his own meeting with top Chinese diplomat Wang Yi in Munich this month and President Joe Biden’s talks with President Xi Jinping in Indonesia in November 2022.'))"
   ]
  },
  {
   "cell_type": "markdown",
   "id": "2ad0fc11",
   "metadata": {},
   "source": [
    "### Model is pretty good at detecting fake news, but training data usa-oriented, so it can't detect russian satiric news, for example"
   ]
  },
  {
   "cell_type": "code",
   "execution_count": 42,
   "id": "9b7ffae3",
   "metadata": {},
   "outputs": [
    {
     "name": "stdout",
     "output_type": "stream",
     "text": [
      "1/1 [==============================] - 0s 268ms/step\n"
     ]
    },
    {
     "data": {
      "text/plain": [
       "array([[0.4284585]], dtype=float32)"
      ]
     },
     "execution_count": 42,
     "metadata": {},
     "output_type": "execute_result"
    }
   ],
   "source": [
    "model2.predict(pd.Series('In Moscow, nationalists from several organizations united at once to help the Georgian diaspora rebuild a market not far from the Paveletskaya metro station. In 2017, it was the nationalist activists who smashed the malls in this place.The “reversal” of 180 degrees occurred after the so-called queer parade of drag users took place in Tbilisi. Its participants recited slogans in support of promiscuity, the multigender paradigm and drug use. Most of them were emigrants from Russia.“We have a lot of questions to each other and a lot of mutual claims with the Georgian diaspora, but now it’s not so important,” says Arkady Bonchenko, leader of the Russkaya Sloboda movement. – It turns out that the participants of this coven are our compatriots. It turns out that we are to blame before the Georgian people, who are now suffering from them. Forgive us for them.\"As a gesture of repentance, the nationalists decided to help rebuild the market, and the Moscow migration authorities, in turn, will be sympathetic to the Georgians, who now do not want to return to their country. Persons with Georgian citizenship whose period of permitted stay is expiring will be able to extend it many times until the situation in Tbilisi stabilizes.'))"
   ]
  },
  {
   "cell_type": "code",
   "execution_count": 44,
   "id": "9132cb19",
   "metadata": {},
   "outputs": [
    {
     "name": "stdout",
     "output_type": "stream",
     "text": [
      "1/1 [==============================] - 0s 264ms/step\n"
     ]
    },
    {
     "data": {
      "text/plain": [
       "array([[0.25701183]], dtype=float32)"
      ]
     },
     "execution_count": 44,
     "metadata": {},
     "output_type": "execute_result"
    }
   ],
   "source": [
    "model2.predict(pd.Series(clean_text('In Moscow, nationalists from several organizations united at once to help the Georgian diaspora rebuild a market not far from the Paveletskaya metro station. In 2017, it was the nationalist activists who smashed the malls in this place.The “reversal” of 180 degrees occurred after the so-called queer parade of drag users took place in Tbilisi. Its participants recited slogans in support of promiscuity, the multigender paradigm and drug use. Most of them were emigrants from Russia.“We have a lot of questions to each other and a lot of mutual claims with the Georgian diaspora, but now it’s not so important,” says Arkady Bonchenko, leader of the Russkaya Sloboda movement. – It turns out that the participants of this coven are our compatriots. It turns out that we are to blame before the Georgian people, who are now suffering from them. Forgive us for them.\"As a gesture of repentance, the nationalists decided to help rebuild the market, and the Moscow migration authorities, in turn, will be sympathetic to the Georgians, who now do not want to return to their country. Persons with Georgian citizenship whose period of permitted stay is expiring will be able to extend it many times until the situation in Tbilisi stabilizes.')))"
   ]
  },
  {
   "cell_type": "markdown",
   "id": "b4100ef8",
   "metadata": {},
   "source": [
    "### Cleaning text made it even worse"
   ]
  },
  {
   "cell_type": "code",
   "execution_count": null,
   "id": "e19bb64c",
   "metadata": {},
   "outputs": [],
   "source": []
  }
 ],
 "metadata": {
  "kernelspec": {
   "display_name": "Python 3 (ipykernel)",
   "language": "python",
   "name": "python3"
  },
  "language_info": {
   "codemirror_mode": {
    "name": "ipython",
    "version": 3
   },
   "file_extension": ".py",
   "mimetype": "text/x-python",
   "name": "python",
   "nbconvert_exporter": "python",
   "pygments_lexer": "ipython3",
   "version": "3.9.13"
  }
 },
 "nbformat": 4,
 "nbformat_minor": 5
}
